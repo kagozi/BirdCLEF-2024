{
 "cells": [
  {
   "cell_type": "markdown",
   "metadata": {},
   "source": [
    "## Import Libraries 📚"
   ]
  },
  {
   "cell_type": "code",
   "execution_count": 2,
   "metadata": {},
   "outputs": [
    {
     "name": "stderr",
     "output_type": "stream",
     "text": [
      "c:\\Users\\PC\\Desktop\\CompScience\\ArtificialIntelligence\\BirdCLEF-2024\\.venv\\Lib\\site-packages\\tqdm\\auto.py:21: TqdmWarning: IProgress not found. Please update jupyter and ipywidgets. See https://ipywidgets.readthedocs.io/en/stable/user_install.html\n",
      "  from .autonotebook import tqdm as notebook_tqdm\n",
      "C:\\Users\\PC\\AppData\\Local\\Temp\\ipykernel_15356\\1126844913.py:23: MatplotlibDeprecationWarning: The get_cmap function was deprecated in Matplotlib 3.7 and will be removed in 3.11. Use ``matplotlib.colormaps[name]`` or ``matplotlib.colormaps.get_cmap()`` or ``pyplot.get_cmap()`` instead.\n",
      "  cmap = mpl.cm.get_cmap('coolwarm')\n"
     ]
    }
   ],
   "source": [
    "import os\n",
    "os.environ[\"KERAS_BACKEND\"] = \"tensorflow\"  # \"jax\" or \"tensorflow\" or \"torch\"\n",
    "\n",
    "import keras_cv\n",
    "import keras\n",
    "import keras.backend as K\n",
    "import tensorflow as tf\n",
    "import tensorflow_io as tfio\n",
    "\n",
    "import numpy as np\n",
    "import pandas as pd\n",
    "\n",
    "from glob import glob\n",
    "from tqdm import tqdm\n",
    "\n",
    "import librosa\n",
    "import IPython.display as ipd\n",
    "import librosa.display as lid\n",
    "\n",
    "import matplotlib.pyplot as plt\n",
    "import matplotlib as mpl\n",
    "\n",
    "cmap = mpl.cm.get_cmap('coolwarm')"
   ]
  },
  {
   "cell_type": "markdown",
   "metadata": {},
   "source": [
    "### Data Exploration 💥💥"
   ]
  },
  {
   "cell_type": "code",
   "execution_count": 3,
   "metadata": {},
   "outputs": [],
   "source": [
    "DATASET_PATH = 'content/birdclef-2024'"
   ]
  },
  {
   "cell_type": "markdown",
   "metadata": {},
   "source": [
    "#### View the species name and construct a dictionary to hold their values 📃"
   ]
  },
  {
   "cell_type": "code",
   "execution_count": 9,
   "metadata": {},
   "outputs": [],
   "source": [
    "class_names = sorted(os.listdir(f\"{DATASET_PATH}/train_audio/\"))\n",
    "num_classes = len(class_names)\n",
    "class_labels = list(range(num_classes))\n",
    "label2name = dict(zip(class_labels, class_names))\n",
    "name2label = {v:k for k,v in label2name.items()}"
   ]
  },
  {
   "cell_type": "code",
   "execution_count": 11,
   "metadata": {},
   "outputs": [
    {
     "name": "stdout",
     "output_type": "stream",
     "text": [
      "{0: 'asbfly', 1: 'ashdro1', 2: 'ashpri1', 3: 'ashwoo2', 4: 'asikoe2'}\n",
      "{'asbfly': 0, 'ashdro1': 1, 'ashpri1': 2, 'ashwoo2': 3, 'asikoe2': 4}\n"
     ]
    }
   ],
   "source": [
    "## Print out the first 5 items in the label2name and name2label dictionaries\n",
    "print({k: label2name[k] for k in list(label2name)[:5]})\n",
    "print({k: name2label[k] for k in list(name2label)[:5]})"
   ]
  },
  {
   "cell_type": "markdown",
   "metadata": {},
   "source": [
    "### Load the dataframe 🔃"
   ]
  },
  {
   "cell_type": "code",
   "execution_count": 6,
   "metadata": {},
   "outputs": [
    {
     "data": {
      "text/html": [
       "<div>\n",
       "<style scoped>\n",
       "    .dataframe tbody tr th:only-of-type {\n",
       "        vertical-align: middle;\n",
       "    }\n",
       "\n",
       "    .dataframe tbody tr th {\n",
       "        vertical-align: top;\n",
       "    }\n",
       "\n",
       "    .dataframe thead th {\n",
       "        text-align: right;\n",
       "    }\n",
       "</style>\n",
       "<table border=\"1\" class=\"dataframe\">\n",
       "  <thead>\n",
       "    <tr style=\"text-align: right;\">\n",
       "      <th></th>\n",
       "      <th>primary_label</th>\n",
       "      <th>secondary_labels</th>\n",
       "      <th>type</th>\n",
       "      <th>latitude</th>\n",
       "      <th>longitude</th>\n",
       "      <th>scientific_name</th>\n",
       "      <th>common_name</th>\n",
       "      <th>author</th>\n",
       "      <th>license</th>\n",
       "      <th>rating</th>\n",
       "      <th>url</th>\n",
       "      <th>filename</th>\n",
       "      <th>filepath</th>\n",
       "      <th>target</th>\n",
       "      <th>xc_id</th>\n",
       "    </tr>\n",
       "  </thead>\n",
       "  <tbody>\n",
       "    <tr>\n",
       "      <th>9526</th>\n",
       "      <td>eucdov</td>\n",
       "      <td>[]</td>\n",
       "      <td>['']</td>\n",
       "      <td>48.7589</td>\n",
       "      <td>2.4047</td>\n",
       "      <td>Streptopelia decaocto</td>\n",
       "      <td>Eurasian Collared-Dove</td>\n",
       "      <td>Pablo Bolaños Sittler</td>\n",
       "      <td>Creative Commons Attribution-NonCommercial-Sha...</td>\n",
       "      <td>3.0</td>\n",
       "      <td>https://xeno-canto.org/816462</td>\n",
       "      <td>XC816462.ogg</td>\n",
       "      <td>content/birdclef-2024/train_audio/eucdov/XC816...</td>\n",
       "      <td>55</td>\n",
       "      <td>XC816462</td>\n",
       "    </tr>\n",
       "    <tr>\n",
       "      <th>17384</th>\n",
       "      <td>litgre1</td>\n",
       "      <td>[]</td>\n",
       "      <td>['call']</td>\n",
       "      <td>47.9801</td>\n",
       "      <td>10.9586</td>\n",
       "      <td>Tachybaptus ruficollis</td>\n",
       "      <td>Little Grebe</td>\n",
       "      <td>Beatrix Saadi-Varchmin</td>\n",
       "      <td>Creative Commons Attribution-NonCommercial-Sha...</td>\n",
       "      <td>4.5</td>\n",
       "      <td>https://www.xeno-canto.org/326376</td>\n",
       "      <td>XC326376.ogg</td>\n",
       "      <td>content/birdclef-2024/train_audio/litgre1/XC32...</td>\n",
       "      <td>107</td>\n",
       "      <td>XC326376</td>\n",
       "    </tr>\n",
       "    <tr>\n",
       "      <th>8317</th>\n",
       "      <td>crseag1</td>\n",
       "      <td>[]</td>\n",
       "      <td>['song']</td>\n",
       "      <td>NaN</td>\n",
       "      <td>NaN</td>\n",
       "      <td>Spilornis cheela</td>\n",
       "      <td>Crested Serpent-Eagle</td>\n",
       "      <td>Heru Cahyono</td>\n",
       "      <td>Creative Commons Attribution-NonCommercial-Sha...</td>\n",
       "      <td>1.5</td>\n",
       "      <td>https://www.xeno-canto.org/144914</td>\n",
       "      <td>XC144914.ogg</td>\n",
       "      <td>content/birdclef-2024/train_audio/crseag1/XC14...</td>\n",
       "      <td>50</td>\n",
       "      <td>XC144914</td>\n",
       "    </tr>\n",
       "    <tr>\n",
       "      <th>7548</th>\n",
       "      <td>comsan</td>\n",
       "      <td>[]</td>\n",
       "      <td>['nocturnal flight call']</td>\n",
       "      <td>42.3285</td>\n",
       "      <td>2.5512</td>\n",
       "      <td>Actitis hypoleucos</td>\n",
       "      <td>Common Sandpiper</td>\n",
       "      <td>Robert Manzano</td>\n",
       "      <td>Creative Commons Attribution-NonCommercial-Sha...</td>\n",
       "      <td>3.0</td>\n",
       "      <td>https://www.xeno-canto.org/590100</td>\n",
       "      <td>XC590100.ogg</td>\n",
       "      <td>content/birdclef-2024/train_audio/comsan/XC590...</td>\n",
       "      <td>44</td>\n",
       "      <td>XC590100</td>\n",
       "    </tr>\n",
       "    <tr>\n",
       "      <th>1729</th>\n",
       "      <td>bkcbul1</td>\n",
       "      <td>[]</td>\n",
       "      <td>['']</td>\n",
       "      <td>11.8486</td>\n",
       "      <td>75.9394</td>\n",
       "      <td>Rubigula gularis</td>\n",
       "      <td>Flame-throated Bulbul</td>\n",
       "      <td>JISHNU KIZHAKKILLAM</td>\n",
       "      <td>Creative Commons Attribution-NonCommercial-Sha...</td>\n",
       "      <td>5.0</td>\n",
       "      <td>https://xeno-canto.org/783987</td>\n",
       "      <td>XC783987.ogg</td>\n",
       "      <td>content/birdclef-2024/train_audio/bkcbul1/XC78...</td>\n",
       "      <td>11</td>\n",
       "      <td>XC783987</td>\n",
       "    </tr>\n",
       "  </tbody>\n",
       "</table>\n",
       "</div>"
      ],
      "text/plain": [
       "      primary_label secondary_labels                       type  latitude  \\\n",
       "9526         eucdov               []                       ['']   48.7589   \n",
       "17384       litgre1               []                   ['call']   47.9801   \n",
       "8317        crseag1               []                   ['song']       NaN   \n",
       "7548         comsan               []  ['nocturnal flight call']   42.3285   \n",
       "1729        bkcbul1               []                       ['']   11.8486   \n",
       "\n",
       "       longitude         scientific_name             common_name  \\\n",
       "9526      2.4047   Streptopelia decaocto  Eurasian Collared-Dove   \n",
       "17384    10.9586  Tachybaptus ruficollis            Little Grebe   \n",
       "8317         NaN        Spilornis cheela   Crested Serpent-Eagle   \n",
       "7548      2.5512      Actitis hypoleucos        Common Sandpiper   \n",
       "1729     75.9394        Rubigula gularis   Flame-throated Bulbul   \n",
       "\n",
       "                       author  \\\n",
       "9526    Pablo Bolaños Sittler   \n",
       "17384  Beatrix Saadi-Varchmin   \n",
       "8317             Heru Cahyono   \n",
       "7548           Robert Manzano   \n",
       "1729      JISHNU KIZHAKKILLAM   \n",
       "\n",
       "                                                 license  rating  \\\n",
       "9526   Creative Commons Attribution-NonCommercial-Sha...     3.0   \n",
       "17384  Creative Commons Attribution-NonCommercial-Sha...     4.5   \n",
       "8317   Creative Commons Attribution-NonCommercial-Sha...     1.5   \n",
       "7548   Creative Commons Attribution-NonCommercial-Sha...     3.0   \n",
       "1729   Creative Commons Attribution-NonCommercial-Sha...     5.0   \n",
       "\n",
       "                                     url      filename  \\\n",
       "9526       https://xeno-canto.org/816462  XC816462.ogg   \n",
       "17384  https://www.xeno-canto.org/326376  XC326376.ogg   \n",
       "8317   https://www.xeno-canto.org/144914  XC144914.ogg   \n",
       "7548   https://www.xeno-canto.org/590100  XC590100.ogg   \n",
       "1729       https://xeno-canto.org/783987  XC783987.ogg   \n",
       "\n",
       "                                                filepath  target     xc_id  \n",
       "9526   content/birdclef-2024/train_audio/eucdov/XC816...      55  XC816462  \n",
       "17384  content/birdclef-2024/train_audio/litgre1/XC32...     107  XC326376  \n",
       "8317   content/birdclef-2024/train_audio/crseag1/XC14...      50  XC144914  \n",
       "7548   content/birdclef-2024/train_audio/comsan/XC590...      44  XC590100  \n",
       "1729   content/birdclef-2024/train_audio/bkcbul1/XC78...      11  XC783987  "
      ]
     },
     "execution_count": 6,
     "metadata": {},
     "output_type": "execute_result"
    }
   ],
   "source": [
    "df = pd.read_csv(f'{DATASET_PATH}/train_metadata.csv')\n",
    "df['filepath'] = DATASET_PATH + '/train_audio/' + df.filename\n",
    "df['target'] = df.primary_label.map(name2label)\n",
    "df['filename'] = df.filepath.map(lambda x: x.split('/')[-1])\n",
    "df['xc_id'] = df.filepath.map(lambda x: x.split('/')[-1].split('.')[0])\n",
    "\n",
    "## display a few rows\n",
    "df.sample(5)"
   ]
  },
  {
   "cell_type": "markdown",
   "metadata": {},
   "source": [
    "### Function to retreive an audio file 🎵\n",
    "**librosa is a python package for music and audio analysis. It provides the building blocks necessary to create music information retrieval systems**\n",
    "[Documentation here](https://librosa.org/doc/latest/index.html)"
   ]
  },
  {
   "cell_type": "code",
   "execution_count": 12,
   "metadata": {},
   "outputs": [],
   "source": [
    "## Load the audio as a waveform `y`\n",
    "# Store the sampling rate as `sr`\n",
    "def load_audio(filepath):\n",
    "    audio, sr = librosa.load(filepath)\n",
    "    return audio, sr"
   ]
  },
  {
   "cell_type": "markdown",
   "metadata": {},
   "source": [
    "### Get the audio spectrogram 🌊. \n",
    "**A spectrogram is a visual representation of the spectrum of frequencies of a signal as it varies with time. When applied to an audio signal, spectrograms are sometimes called sonographs, voiceprints, or voicegrams**"
   ]
  },
  {
   "cell_type": "code",
   "execution_count": 14,
   "metadata": {},
   "outputs": [],
   "source": [
    "# Define the sampling rate of the audio signal (32 kHz)\n",
    "sample_rate = 32000\n",
    "\n",
    "# Define the maximum frequency to include in the spectrogram (16 kHz)\n",
    "fmax = 16000\n",
    "\n",
    "# Define the minimum frequency to include in the spectrogram (20 Hz)\n",
    "fmin = 20\n",
    "\n",
    "# Function to compute the Mel-spectrogram of an audio signal\n",
    "def get_spectrogram(audio):\n",
    "    # Compute the Mel-spectrogram\n",
    "    spec = librosa.feature.melspectrogram(\n",
    "        y=audio,  # Input audio signal\n",
    "        sr=sample_rate,  # Sampling rate of the audio\n",
    "        n_mels=256,  # Number of Mel bands (frequency bins)\n",
    "        n_fft=2048,  # Size of the FFT window (determines frequency resolution)\n",
    "        hop_length=512,  # Number of samples between successive frames (determines time resolution)\n",
    "        fmax=fmax,  # Maximum frequency to include in the spectrogram\n",
    "        fmin=fmin,  # Minimum frequency to include in the spectrogram\n",
    "    )\n",
    "\n",
    "    # Convert the power spectrogram to decibel (dB) scale\n",
    "    # This makes the values more perceptually meaningful\n",
    "    spec = librosa.power_to_db(spec, ref=1.0)  # ref=1.0 is the reference value for dB calculation\n",
    "\n",
    "    # Normalize the spectrogram to the range [0, 1]\n",
    "    min_ = spec.min()  # Minimum value in the spectrogram\n",
    "    max_ = spec.max()  # Maximum value in the spectrogram\n",
    "    if max_ != min_:  # Avoid division by zero if the spectrogram is constant\n",
    "        spec = (spec - min_) / (max_ - min_)  # Normalize using min-max scaling\n",
    "\n",
    "    # Return the normalized Mel-spectrogram\n",
    "    return spec"
   ]
  },
  {
   "cell_type": "code",
   "execution_count": null,
   "metadata": {},
   "outputs": [],
   "source": []
  }
 ],
 "metadata": {
  "kernelspec": {
   "display_name": ".venv",
   "language": "python",
   "name": "python3"
  },
  "language_info": {
   "codemirror_mode": {
    "name": "ipython",
    "version": 3
   },
   "file_extension": ".py",
   "mimetype": "text/x-python",
   "name": "python",
   "nbconvert_exporter": "python",
   "pygments_lexer": "ipython3",
   "version": "3.11.9"
  }
 },
 "nbformat": 4,
 "nbformat_minor": 2
}
