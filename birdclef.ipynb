{
 "cells": [
  {
   "cell_type": "markdown",
   "metadata": {},
   "source": [
    "## Import Libraries 📚"
   ]
  },
  {
   "cell_type": "code",
   "execution_count": 1,
   "metadata": {},
   "outputs": [
    {
     "name": "stderr",
     "output_type": "stream",
     "text": [
      "C:\\Users\\PC\\AppData\\Local\\Temp\\ipykernel_18736\\4144608217.py:29: MatplotlibDeprecationWarning: The get_cmap function was deprecated in Matplotlib 3.7 and will be removed in 3.11. Use ``matplotlib.colormaps[name]`` or ``matplotlib.colormaps.get_cmap()`` or ``pyplot.get_cmap()`` instead.\n",
      "  cmap = mpl.cm.get_cmap('coolwarm')\n"
     ]
    }
   ],
   "source": [
    "import os\n",
    "os.environ[\"KERAS_BACKEND\"] = \"tensorflow\"  # \"jax\" or \"tensorflow\" or \"torch\"\n",
    "\n",
    "import keras_cv\n",
    "import keras\n",
    "import keras.backend as K\n",
    "import tensorflow as tf\n",
    "import tensorflow_io as tfio\n",
    "\n",
    "import numpy as np\n",
    "import pandas as pd\n",
    "\n",
    "from glob import glob\n",
    "from tqdm import tqdm\n",
    "\n",
    "import librosa\n",
    "import IPython.display as ipd\n",
    "import librosa.display as lid\n",
    "\n",
    "import matplotlib.pyplot as plt\n",
    "import matplotlib as mpl\n",
    "import matplotlib.pyplot as plt\n",
    "import ipywidgets as widgets\n",
    "\n",
    "# Set interactive backend\n",
    "%matplotlib inline\n",
    "\n",
    "\n",
    "cmap = mpl.cm.get_cmap('coolwarm')"
   ]
  },
  {
   "cell_type": "markdown",
   "metadata": {},
   "source": [
    "### Data Exploration 💥💥"
   ]
  },
  {
   "cell_type": "code",
   "execution_count": 2,
   "metadata": {},
   "outputs": [],
   "source": [
    "DATASET_PATH = 'content/birdclef-2024'"
   ]
  },
  {
   "cell_type": "markdown",
   "metadata": {},
   "source": [
    "#### View the species name and construct a dictionary to hold their values 📃"
   ]
  },
  {
   "cell_type": "code",
   "execution_count": 3,
   "metadata": {},
   "outputs": [],
   "source": [
    "class_names = sorted(os.listdir(f\"{DATASET_PATH}/train_audio/\"))\n",
    "num_classes = len(class_names)\n",
    "class_labels = list(range(num_classes))\n",
    "label2name = dict(zip(class_labels, class_names))\n",
    "name2label = {v:k for k,v in label2name.items()}"
   ]
  },
  {
   "cell_type": "code",
   "execution_count": 4,
   "metadata": {},
   "outputs": [
    {
     "name": "stdout",
     "output_type": "stream",
     "text": [
      "{0: 'asbfly', 1: 'ashdro1', 2: 'ashpri1', 3: 'ashwoo2', 4: 'asikoe2'}\n",
      "{'asbfly': 0, 'ashdro1': 1, 'ashpri1': 2, 'ashwoo2': 3, 'asikoe2': 4}\n"
     ]
    }
   ],
   "source": [
    "## Print out the first 5 items in the label2name and name2label dictionaries\n",
    "print({k: label2name[k] for k in list(label2name)[:5]})\n",
    "print({k: name2label[k] for k in list(name2label)[:5]})"
   ]
  },
  {
   "cell_type": "markdown",
   "metadata": {},
   "source": [
    "### Load the dataframe 🔃"
   ]
  },
  {
   "cell_type": "code",
   "execution_count": 5,
   "metadata": {},
   "outputs": [
    {
     "data": {
      "text/html": [
       "<div>\n",
       "<style scoped>\n",
       "    .dataframe tbody tr th:only-of-type {\n",
       "        vertical-align: middle;\n",
       "    }\n",
       "\n",
       "    .dataframe tbody tr th {\n",
       "        vertical-align: top;\n",
       "    }\n",
       "\n",
       "    .dataframe thead th {\n",
       "        text-align: right;\n",
       "    }\n",
       "</style>\n",
       "<table border=\"1\" class=\"dataframe\">\n",
       "  <thead>\n",
       "    <tr style=\"text-align: right;\">\n",
       "      <th></th>\n",
       "      <th>primary_label</th>\n",
       "      <th>secondary_labels</th>\n",
       "      <th>type</th>\n",
       "      <th>latitude</th>\n",
       "      <th>longitude</th>\n",
       "      <th>scientific_name</th>\n",
       "      <th>common_name</th>\n",
       "      <th>author</th>\n",
       "      <th>license</th>\n",
       "      <th>rating</th>\n",
       "      <th>url</th>\n",
       "      <th>filename</th>\n",
       "      <th>filepath</th>\n",
       "      <th>target</th>\n",
       "      <th>xc_id</th>\n",
       "    </tr>\n",
       "  </thead>\n",
       "  <tbody>\n",
       "    <tr>\n",
       "      <th>11566</th>\n",
       "      <td>grejun2</td>\n",
       "      <td>[]</td>\n",
       "      <td>['call']</td>\n",
       "      <td>18.4460</td>\n",
       "      <td>73.4266</td>\n",
       "      <td>Gallus sonneratii</td>\n",
       "      <td>Gray Junglefowl</td>\n",
       "      <td>Rajgopal Patil</td>\n",
       "      <td>Creative Commons Attribution-NonCommercial-Sha...</td>\n",
       "      <td>5.0</td>\n",
       "      <td>https://www.xeno-canto.org/574339</td>\n",
       "      <td>XC574339.ogg</td>\n",
       "      <td>content/birdclef-2024/train_audio/grejun2/XC57...</td>\n",
       "      <td>68</td>\n",
       "      <td>XC574339</td>\n",
       "    </tr>\n",
       "    <tr>\n",
       "      <th>17302</th>\n",
       "      <td>litegr</td>\n",
       "      <td>[]</td>\n",
       "      <td>['']</td>\n",
       "      <td>22.4939</td>\n",
       "      <td>114.0404</td>\n",
       "      <td>Egretta garzetta</td>\n",
       "      <td>Little Egret</td>\n",
       "      <td>Geoff Carey</td>\n",
       "      <td>Creative Commons Attribution-NonCommercial-Sha...</td>\n",
       "      <td>5.0</td>\n",
       "      <td>https://xeno-canto.org/795967</td>\n",
       "      <td>XC795967.ogg</td>\n",
       "      <td>content/birdclef-2024/train_audio/litegr/XC795...</td>\n",
       "      <td>106</td>\n",
       "      <td>XC795967</td>\n",
       "    </tr>\n",
       "    <tr>\n",
       "      <th>8716</th>\n",
       "      <td>eaywag1</td>\n",
       "      <td>[]</td>\n",
       "      <td>['nocturnal flight call']</td>\n",
       "      <td>39.3131</td>\n",
       "      <td>-9.2168</td>\n",
       "      <td>Motacilla flava</td>\n",
       "      <td>Western Yellow Wagtail</td>\n",
       "      <td>Helder Cardoso</td>\n",
       "      <td>Creative Commons Attribution-NonCommercial-Sha...</td>\n",
       "      <td>1.0</td>\n",
       "      <td>https://www.xeno-canto.org/586874</td>\n",
       "      <td>XC586874.ogg</td>\n",
       "      <td>content/birdclef-2024/train_audio/eaywag1/XC58...</td>\n",
       "      <td>53</td>\n",
       "      <td>XC586874</td>\n",
       "    </tr>\n",
       "    <tr>\n",
       "      <th>22882</th>\n",
       "      <td>whcbar1</td>\n",
       "      <td>[]</td>\n",
       "      <td>['call']</td>\n",
       "      <td>13.3193</td>\n",
       "      <td>74.8111</td>\n",
       "      <td>Psilopogon viridis</td>\n",
       "      <td>White-cheeked Barbet</td>\n",
       "      <td>ARUN PRABHU</td>\n",
       "      <td>Creative Commons Attribution-NonCommercial-Sha...</td>\n",
       "      <td>5.0</td>\n",
       "      <td>https://www.xeno-canto.org/354627</td>\n",
       "      <td>XC354627.ogg</td>\n",
       "      <td>content/birdclef-2024/train_audio/whcbar1/XC35...</td>\n",
       "      <td>173</td>\n",
       "      <td>XC354627</td>\n",
       "    </tr>\n",
       "    <tr>\n",
       "      <th>10083</th>\n",
       "      <td>forwag1</td>\n",
       "      <td>['comtai1']</td>\n",
       "      <td>['call']</td>\n",
       "      <td>13.6596</td>\n",
       "      <td>79.4575</td>\n",
       "      <td>Dendronanthus indicus</td>\n",
       "      <td>Forest Wagtail</td>\n",
       "      <td>SUYASH SAWANT</td>\n",
       "      <td>Creative Commons Attribution-NonCommercial-Sha...</td>\n",
       "      <td>2.5</td>\n",
       "      <td>https://www.xeno-canto.org/548380</td>\n",
       "      <td>XC548380.ogg</td>\n",
       "      <td>content/birdclef-2024/train_audio/forwag1/XC54...</td>\n",
       "      <td>58</td>\n",
       "      <td>XC548380</td>\n",
       "    </tr>\n",
       "  </tbody>\n",
       "</table>\n",
       "</div>"
      ],
      "text/plain": [
       "      primary_label secondary_labels                       type  latitude  \\\n",
       "11566       grejun2               []                   ['call']   18.4460   \n",
       "17302        litegr               []                       ['']   22.4939   \n",
       "8716        eaywag1               []  ['nocturnal flight call']   39.3131   \n",
       "22882       whcbar1               []                   ['call']   13.3193   \n",
       "10083       forwag1      ['comtai1']                   ['call']   13.6596   \n",
       "\n",
       "       longitude        scientific_name             common_name  \\\n",
       "11566    73.4266      Gallus sonneratii         Gray Junglefowl   \n",
       "17302   114.0404       Egretta garzetta            Little Egret   \n",
       "8716     -9.2168        Motacilla flava  Western Yellow Wagtail   \n",
       "22882    74.8111     Psilopogon viridis    White-cheeked Barbet   \n",
       "10083    79.4575  Dendronanthus indicus          Forest Wagtail   \n",
       "\n",
       "               author                                            license  \\\n",
       "11566  Rajgopal Patil  Creative Commons Attribution-NonCommercial-Sha...   \n",
       "17302     Geoff Carey  Creative Commons Attribution-NonCommercial-Sha...   \n",
       "8716   Helder Cardoso  Creative Commons Attribution-NonCommercial-Sha...   \n",
       "22882     ARUN PRABHU  Creative Commons Attribution-NonCommercial-Sha...   \n",
       "10083   SUYASH SAWANT  Creative Commons Attribution-NonCommercial-Sha...   \n",
       "\n",
       "       rating                                url      filename  \\\n",
       "11566     5.0  https://www.xeno-canto.org/574339  XC574339.ogg   \n",
       "17302     5.0      https://xeno-canto.org/795967  XC795967.ogg   \n",
       "8716      1.0  https://www.xeno-canto.org/586874  XC586874.ogg   \n",
       "22882     5.0  https://www.xeno-canto.org/354627  XC354627.ogg   \n",
       "10083     2.5  https://www.xeno-canto.org/548380  XC548380.ogg   \n",
       "\n",
       "                                                filepath  target     xc_id  \n",
       "11566  content/birdclef-2024/train_audio/grejun2/XC57...      68  XC574339  \n",
       "17302  content/birdclef-2024/train_audio/litegr/XC795...     106  XC795967  \n",
       "8716   content/birdclef-2024/train_audio/eaywag1/XC58...      53  XC586874  \n",
       "22882  content/birdclef-2024/train_audio/whcbar1/XC35...     173  XC354627  \n",
       "10083  content/birdclef-2024/train_audio/forwag1/XC54...      58  XC548380  "
      ]
     },
     "execution_count": 5,
     "metadata": {},
     "output_type": "execute_result"
    }
   ],
   "source": [
    "df = pd.read_csv(f'{DATASET_PATH}/train_metadata.csv')\n",
    "df['filepath'] = DATASET_PATH + '/train_audio/' + df.filename\n",
    "df['target'] = df.primary_label.map(name2label)\n",
    "df['filename'] = df.filepath.map(lambda x: x.split('/')[-1])\n",
    "df['xc_id'] = df.filepath.map(lambda x: x.split('/')[-1].split('.')[0])\n",
    "\n",
    "## display a few rows\n",
    "df.sample(5)"
   ]
  },
  {
   "cell_type": "markdown",
   "metadata": {},
   "source": [
    "### Function to retreive an audio file 🎵\n",
    "**librosa is a python package for music and audio analysis. It provides the building blocks necessary to create music information retrieval systems**\n",
    "[Documentation here](https://librosa.org/doc/latest/index.html)"
   ]
  },
  {
   "cell_type": "code",
   "execution_count": 6,
   "metadata": {},
   "outputs": [],
   "source": [
    "## Load the audio as a waveform `y`\n",
    "# Store the sampling rate as `sr`\n",
    "def load_audio(filepath):\n",
    "    audio, sr = librosa.load(filepath)\n",
    "    return audio, sr"
   ]
  },
  {
   "cell_type": "markdown",
   "metadata": {},
   "source": [
    "### Get the audio spectrogram 🌊. \n",
    "**A spectrogram is a visual representation of the spectrum of frequencies of a signal as it varies with time. When applied to an audio signal, spectrograms are sometimes called sonographs, voiceprints, or voicegrams**"
   ]
  },
  {
   "cell_type": "code",
   "execution_count": 7,
   "metadata": {},
   "outputs": [],
   "source": [
    "# Define the sampling rate of the audio signal (32 kHz)\n",
    "sample_rate = 32000\n",
    "\n",
    "# Define the maximum frequency to include in the spectrogram (16 kHz)\n",
    "fmax = 16000\n",
    "\n",
    "# Define the minimum frequency to include in the spectrogram (20 Hz)\n",
    "fmin = 20\n",
    "\n",
    "# Function to compute the Mel-spectrogram of an audio signal\n",
    "def get_spectrogram(audio):\n",
    "    # Compute the Mel-spectrogram\n",
    "    spec = librosa.feature.melspectrogram(\n",
    "        y=audio,  # Input audio signal\n",
    "        sr=sample_rate,  # Sampling rate of the audio\n",
    "        n_mels=256,  # Number of Mel bands (frequency bins)\n",
    "        n_fft=2048,  # Size of the FFT window (determines frequency resolution)\n",
    "        hop_length=512,  # Number of samples between successive frames (determines time resolution)\n",
    "        fmax=fmax,  # Maximum frequency to include in the spectrogram\n",
    "        fmin=fmin,  # Minimum frequency to include in the spectrogram\n",
    "    )\n",
    "\n",
    "    # Convert the power spectrogram to decibel (dB) scale\n",
    "    # This makes the values more perceptually meaningful\n",
    "    spec = librosa.power_to_db(spec, ref=1.0)  # ref=1.0 is the reference value for dB calculation\n",
    "\n",
    "    # Normalize the spectrogram to the range [0, 1]\n",
    "    min_ = spec.min()  # Minimum value in the spectrogram\n",
    "    max_ = spec.max()  # Maximum value in the spectrogram\n",
    "    if max_ != min_:  # Avoid division by zero if the spectrogram is constant\n",
    "        spec = (spec - min_) / (max_ - min_)  # Normalize using min-max scaling\n",
    "\n",
    "    # Return the normalized Mel-spectrogram\n",
    "    return spec"
   ]
  },
  {
   "cell_type": "markdown",
   "metadata": {},
   "source": [
    "### Display a few audio files with spectograms and their associated df details ⚡"
   ]
  },
  {
   "cell_type": "code",
   "execution_count": 11,
   "metadata": {},
   "outputs": [],
   "source": [
    "duration = 15\n",
    "audio_len = duration * sample_rate\n",
    "def display_audio(row):\n",
    "    caption = f'Id: {row.filename} | Name: {row.common_name} | Sci.Name: {row.scientific_name}'\n",
    "    \n",
    "    audio, sr = load_audio(row.filepath)\n",
    "    audio = audio[:audio_len]\n",
    "    spec = get_spectrogram(audio)\n",
    "    \n",
    "    # Audio output widget\n",
    "    audio_output = widgets.Output()\n",
    "    with audio_output:\n",
    "        display(ipd.Audio(audio, rate=sample_rate))\n",
    "    \n",
    "    # Plot output widget\n",
    "    plot_output = widgets.Output()\n",
    "    with plot_output:\n",
    "        fig, ax = plt.subplots(2, 1, figsize=(12, 6), sharex=True, tight_layout=True)\n",
    "        fig.suptitle(caption)\n",
    "        \n",
    "        # Plot waveform\n",
    "        lid.waveshow(audio, sr=sample_rate, ax=ax[0], color='b')\n",
    "        \n",
    "        # Plot spectrogram\n",
    "        lid.specshow(spec, sr=sample_rate, hop_length=512, n_fft=2048,\n",
    "                     fmin=fmin, fmax=fmax, x_axis='time', y_axis='mel', \n",
    "                     cmap='coolwarm', ax=ax[1])\n",
    "        \n",
    "        ax[0].set_xlabel('')\n",
    "        plt.show()\n",
    "\n",
    "    # Display side-by-side\n",
    "    display(widgets.HBox([audio_output, plot_output]))\n"
   ]
  },
  {
   "cell_type": "code",
   "execution_count": 12,
   "metadata": {},
   "outputs": [
    {
     "data": {
      "application/vnd.jupyter.widget-view+json": {
       "model_id": "c9842fa0a2ae466fabe04e5e13f9ea69",
       "version_major": 2,
       "version_minor": 0
      },
      "text/plain": [
       "HBox(children=(Output(), Output()))"
      ]
     },
     "metadata": {},
     "output_type": "display_data"
    },
    {
     "data": {
      "application/vnd.jupyter.widget-view+json": {
       "model_id": "1188cf29d1fa4381bcee1adc50d4bb5f",
       "version_major": 2,
       "version_minor": 0
      },
      "text/plain": [
       "HBox(children=(Output(), Output()))"
      ]
     },
     "metadata": {},
     "output_type": "display_data"
    },
    {
     "data": {
      "application/vnd.jupyter.widget-view+json": {
       "model_id": "7e4f594db3ea4af1a6d6667a3512948b",
       "version_major": 2,
       "version_minor": 0
      },
      "text/plain": [
       "HBox(children=(Output(), Output()))"
      ]
     },
     "metadata": {},
     "output_type": "display_data"
    }
   ],
   "source": [
    "## Display a few audio samples\n",
    "for i in range(3):\n",
    "    display_audio(df.sample(1).iloc[0])"
   ]
  },
  {
   "cell_type": "code",
   "execution_count": null,
   "metadata": {},
   "outputs": [],
   "source": []
  }
 ],
 "metadata": {
  "kernelspec": {
   "display_name": ".venv",
   "language": "python",
   "name": "python3"
  },
  "language_info": {
   "codemirror_mode": {
    "name": "ipython",
    "version": 3
   },
   "file_extension": ".py",
   "mimetype": "text/x-python",
   "name": "python",
   "nbconvert_exporter": "python",
   "pygments_lexer": "ipython3",
   "version": "3.11.9"
  }
 },
 "nbformat": 4,
 "nbformat_minor": 2
}
